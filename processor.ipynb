{
 "cells": [
  {
   "cell_type": "code",
   "execution_count": 17,
   "metadata": {},
   "outputs": [],
   "source": [
    "# !mkdir in\n",
    "# !cp dataset/taxa-37/gene-tree/noscale.200g.500b/1_gt.tre in/"
   ]
  },
  {
   "cell_type": "code",
   "execution_count": 18,
   "metadata": {},
   "outputs": [],
   "source": [
    "\n",
    "# !python preprocessor.py > /dev/null\n",
    "# !python postprocessor.py > /dev/null\n"
   ]
  },
  {
   "cell_type": "code",
   "execution_count": null,
   "metadata": {},
   "outputs": [],
   "source": []
  },
  {
   "cell_type": "code",
   "execution_count": 19,
   "metadata": {},
   "outputs": [],
   "source": [
    "import  numpy  as  np"
   ]
  },
  {
   "cell_type": "code",
   "execution_count": null,
   "metadata": {},
   "outputs": [],
   "source": []
  },
  {
   "cell_type": "code",
   "execution_count": 20,
   "metadata": {},
   "outputs": [],
   "source": [
    "def getTaxaSet(t):\n",
    "    return t.replace('(', '').replace(')', '').split(';')[0].split(':')[0].split(',')\n"
   ]
  },
  {
   "cell_type": "code",
   "execution_count": 21,
   "metadata": {},
   "outputs": [
    {
     "name": "stdout",
     "output_type": "stream",
     "text": [
      "200\n",
      "(ORN,(GAL,((MON,MAC),(((DAS,CHO),(ECH,(LOX,PRO))),(((SOR,ERI),((PTE,MYO),((EQU,(FEL,CAN)),(VIC,(SUS,(BOS,TUR)))))),(((MIC,OTO),(TAR,(CAL,(NEW,(PON,(GOR,(PAN,HOM))))))),(TUP,((ORY,OCH),(CAV,((DIP,(RAT,MUS)),SPE))))))))));\n",
      "\n",
      "['ORN', 'GAL', 'MON', 'MAC', 'DAS', 'CHO', 'ECH', 'LOX', 'PRO', 'SOR', 'ERI', 'PTE', 'MYO', 'EQU', 'FEL', 'CAN', 'VIC', 'SUS', 'BOS', 'TUR', 'MIC', 'OTO', 'TAR', 'CAL', 'NEW', 'PON', 'GOR', 'PAN', 'HOM', 'TUP', 'ORY', 'OCH', 'CAV', 'DIP', 'RAT', 'MUS', 'SPE']\n"
     ]
    }
   ],
   "source": [
    "METHOD = 'wQFM'\n",
    "OUTGROUP = 'GAL'\n",
    "\n",
    "st = open('input.nwk')\n",
    "st = st.read()\n",
    "gts = open('gt.tre')\n",
    "\n",
    "gts = gts.read().split(';\\n')[:-1] \n",
    "\n",
    "# print(len(gts))\n",
    "\n",
    "# print(st)\n",
    "taxaSet = getTaxaSet(st)\n",
    "# print(taxaSet)\n",
    "matrix = np.zeros((len(taxaSet), len(gts)), dtype=int)\n",
    "\n",
    "\n",
    "# print(len(gts))\n",
    "for gt_idx, gt in  enumerate(gts) :\n",
    "    # print(gt)\n",
    "    cur_taxaSet = getTaxaSet(gt)\n",
    "    # print(cur_taxaSet)\n",
    "    for i, tx in enumerate(taxaSet):\n",
    "        if tx  in cur_taxaSet or tx == OUTGROUP:\n",
    "            matrix[i][gt_idx] = 1"
   ]
  },
  {
   "cell_type": "code",
   "execution_count": null,
   "metadata": {},
   "outputs": [],
   "source": []
  },
  {
   "cell_type": "code",
   "execution_count": 22,
   "metadata": {},
   "outputs": [
    {
     "name": "stdout",
     "output_type": "stream",
     "text": [
      "[[1 1 1 ... 0 1 0]\n",
      " [1 1 1 ... 1 1 1]\n",
      " [1 1 0 ... 1 1 1]\n",
      " ...\n",
      " [1 1 1 ... 1 1 1]\n",
      " [0 1 1 ... 1 1 1]\n",
      " [1 1 0 ... 1 0 1]]\n"
     ]
    }
   ],
   "source": [
    "# print(matrix)"
   ]
  },
  {
   "cell_type": "code",
   "execution_count": 23,
   "metadata": {},
   "outputs": [],
   "source": [
    "with open('input.data', 'w', newline='') as f:\n",
    "    print(matrix.shape[0], matrix.shape[1], file=f)\n",
    "    for i in range(len(taxaSet)):\n",
    "    \n",
    "        # f.write(matrix[i].tostring(), taxaSet[i])\n",
    "        print(*matrix[i],taxaSet[i], end='\\n', file=f)"
   ]
  },
  {
   "cell_type": "code",
   "execution_count": 24,
   "metadata": {},
   "outputs": [],
   "source": [
    "# !dir\n",
    "# cp 'out/incomplete/20-22/astral/1_gt_species.out.tre' 'valo.nwk' "
   ]
  },
  {
   "cell_type": "code",
   "execution_count": null,
   "metadata": {},
   "outputs": [],
   "source": []
  }
 ],
 "metadata": {
  "kernelspec": {
   "display_name": "tf2",
   "language": "python",
   "name": "python3"
  },
  "language_info": {
   "codemirror_mode": {
    "name": "ipython",
    "version": 3
   },
   "file_extension": ".py",
   "mimetype": "text/x-python",
   "name": "python",
   "nbconvert_exporter": "python",
   "pygments_lexer": "ipython3",
   "version": "3.11.0 | packaged by conda-forge | (main, Oct 25 2022, 06:21:25) [Clang 14.0.4 ]"
  },
  "orig_nbformat": 4,
  "vscode": {
   "interpreter": {
    "hash": "cfd499bf418f77ed98604f368b9dcc9d49d2a51ff3f93a138504985eb88a9fa1"
   }
  }
 },
 "nbformat": 4,
 "nbformat_minor": 2
}
