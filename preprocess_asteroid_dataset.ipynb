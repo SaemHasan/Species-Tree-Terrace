{
 "cells": [
  {
   "cell_type": "code",
   "execution_count": 177,
   "metadata": {},
   "outputs": [],
   "source": [
    "import numpy as np\n",
    "import pandas as pd\n",
    "import os\n",
    "import shutil\n",
    "from checkRF_Score import *"
   ]
  },
  {
   "cell_type": "code",
   "execution_count": 178,
   "metadata": {},
   "outputs": [],
   "source": [
    "source_folder=\"dataset/asteroid_dataset/withils/ssim_veryhighmiss_s25_f1000_sites100_GTR_bl1.0_d0.0_l0.0_t0.0_gc0.0_p0.0_pop50000000_ms0.6_mf0.6_seed3016\"\n",
    "families_folder=source_folder+\"/families\"\n",
    "gt_file_name=\"true.true.geneTree.newick\"\n",
    "species_tree_name=\"speciesTree.newick\""
   ]
  },
  {
   "cell_type": "code",
   "execution_count": 179,
   "metadata": {},
   "outputs": [],
   "source": [
    "gt_output_folder= \"output\"\n",
    "gt_output_file_name=\"1_gt.tre\"\n",
    "true_species_tree_name= \"true-species.out.tree\""
   ]
  },
  {
   "cell_type": "code",
   "execution_count": 180,
   "metadata": {},
   "outputs": [],
   "source": [
    "!rm -rf $gt_output_folder\n",
    "!mkdir -p $gt_output_folder"
   ]
  },
  {
   "cell_type": "code",
   "execution_count": 181,
   "metadata": {},
   "outputs": [],
   "source": [
    "import re\n",
    "\n",
    "def remove_one(input_str):\n",
    "    output_str = re.sub(r\"1(?=[^\\d_])\", \"\", input_str)\n",
    "    return output_str\n",
    "\n",
    "def remove_numbers_after_colon(input_str):\n",
    "    output_str = re.sub(r':[^,\\)]+', '', input_str)\n",
    "    output_str = remove_one(output_str)\n",
    "    return output_str\n",
    "\n",
    "def remove_numbers_after_colon_NO_NEED_TO_REMOVE_ONE(input_str):\n",
    "    output_str = re.sub(r':[^,\\)]+', '', input_str)\n",
    "    return output_str\n",
    "\n",
    "# input_str = '(22_0_0:1.18959,(((17_0_0:0.0449454,14_0_0:0.0400912)1:0.067281,8_0_0:0.25315)1:0.0472608,12_0_0:0.190684)1:0.409925);'\n",
    "# output = remove_numbers_after_colon(input_str)\n",
    "# output = remove_one(output)\n",
    "# print(input_str)\n",
    "# print(output)"
   ]
  },
  {
   "cell_type": "code",
   "execution_count": 182,
   "metadata": {},
   "outputs": [],
   "source": [
    "all_gts = []\n",
    "for dir in os.listdir(families_folder):\n",
    "    # print(dir)\n",
    "    # save mapping from mapping folder\n",
    "    mapping={}\n",
    "    mapping_dir=\"mappings\"\n",
    "    mapping_file_path=families_folder+\"/\"+dir+\"/\"+mapping_dir+\"/treerecs_mapping.link\"\n",
    "    if os.path.exists(mapping_file_path):\n",
    "        # print(mapping_file_path)\n",
    "        with open(mapping_file_path) as f:\n",
    "            for line in f:\n",
    "                # print(line)\n",
    "                (key, val) = line.split()\n",
    "                mapping[key] = val\n",
    "    else:\n",
    "        print(\"mapping file not found\")\n",
    "    if len(mapping) == 0:\n",
    "        print(\"mapping is empty\")\n",
    "    # print(mapping)\n",
    "    gt_tree_dir=\"gene_trees\"\n",
    "    gt_tree_file_path=families_folder+\"/\"+dir+\"/\"+gt_tree_dir+\"/\"+gt_file_name\n",
    "    if not os.path.exists(gt_tree_file_path):\n",
    "        print(\"file not exists\")\n",
    "        exit(1)\n",
    "    with open(gt_tree_file_path) as f:\n",
    "        line = f.readline()\n",
    "        line = remove_numbers_after_colon(line)\n",
    "        # print(line)\n",
    "        for key in mapping:\n",
    "            line = line.replace(key, mapping[key])\n",
    "        all_gts.append(line)\n",
    "        # print(line)\n",
    "#output to a file in output folder\n",
    "with open(gt_output_folder+\"/\"+gt_output_file_name, \"w\") as f:\n",
    "    for gt in all_gts:\n",
    "        f.write(gt+\"\\n\")"
   ]
  },
  {
   "cell_type": "code",
   "execution_count": 183,
   "metadata": {},
   "outputs": [],
   "source": [
    "# copy species tree to output folder\n",
    "species_tree_path = source_folder+\"/species_trees/\"+species_tree_name\n",
    "with open(species_tree_path) as f:\n",
    "    line = f.readline()\n",
    "    line = remove_numbers_after_colon_NO_NEED_TO_REMOVE_ONE(line)\n",
    "    with open(gt_output_folder+\"/\"+true_species_tree_name, \"w\") as f:\n",
    "        f.write(line)\n"
   ]
  },
  {
   "cell_type": "code",
   "execution_count": 184,
   "metadata": {},
   "outputs": [],
   "source": [
    "true_tree = join_dir(gt_output_folder, true_species_tree_name)"
   ]
  },
  {
   "cell_type": "code",
   "execution_count": 185,
   "metadata": {},
   "outputs": [],
   "source": [
    "def getTaxaSet(t):\n",
    "    return t.replace('(', '').replace(')', '').split(';')[0].split(':')[0].split(',')"
   ]
  },
  {
   "cell_type": "code",
   "execution_count": 186,
   "metadata": {},
   "outputs": [
    {
     "name": "stdout",
     "output_type": "stream",
     "text": [
      "\n",
      "================== ASTRAL ===================== \n",
      "\n",
      "This is ASTRAL version 5.6.3\n",
      "Gene trees are treated as unrooted\n",
      "507 trees read from /Users/sayemhasan/Desktop/Thesis/Terraces/raxml-ng/in/1_gt.tre\n",
      "All output trees will be *arbitrarily* rooted at 23\n",
      "\n",
      "======== Running the main analysis\n",
      "Number of taxa: 25 (25 species)\n",
      "Taxa: [23, 21, 24, 20, 11, 13, 14, 7, 15, 22, 3, 12, 8, 19, 17, 1, 9, 5, 18, 2, 10, 4, 6, 25, 16]\n",
      "Taxon occupancy: {22=303, 23=138, 24=146, 25=42, 10=25, 11=101, 12=209, 13=191, 14=184, 15=197, 16=14, 17=130, 18=112, 19=47, 1=49, 2=63, 3=178, 4=41, 5=163, 6=61, 7=91, 8=141, 9=194, 20=67, 21=103}\n",
      "Number of gene trees: 507\n",
      "507 trees have missing taxa\n",
      "Calculating quartet distance matrix (for completion of X)\n",
      "Species tree distances calculated ...\n",
      "Will attempt to complete bipartitions from X before adding using a distance matrix.\n",
      "Building set of clusters (X) from gene trees \n",
      "------------------------------\n",
      "gradient0: 225\n",
      "Number of Clusters after addition by distance: 225\n",
      "calculating extra bipartitions to be added at level 1 ...\n",
      "Adding to X using resolutions of greedy consensus ...\n",
      "Limit for sigma of degrees:675\n",
      "polytomy size limit : 3\n",
      "discarded polytomies:  []\n",
      "Threshold 0.0:\n",
      "Threshold 0.01:\n",
      "Threshold 0.02:\n",
      "Threshold 0.05:\n",
      "Threshold 0.1:\n",
      "Threshold 0.2:\n",
      "Threshold 0.3333333333333333:\n",
      "max k is :0\n",
      "Number of Clusters after addition by greedy: 225\n",
      "gradient0 in heuristiic: 225\n",
      "partitions formed in 0.189 secs\n",
      "Dynamic Programming starting after 0.189 secs\n",
      "Using tree-based weight calculation.\n",
      "Using polytree-based weight calculation.\n",
      "Polytree max score: 18448\n",
      "Polytree building time: 0.008 seconds.\n",
      "Number of quartet trees in the gene trees: 18448\n",
      "Size of largest cluster: 25\n",
      "Greedy score: 17660\n",
      "estimationFactor: 1.0446206115515289\n",
      "Sub-optimal score: 17733\n",
      "Total Number of elements weighted: 231\n",
      "Normalized score (portion of input quartet trees satisfied before correcting for multiple individuals): 0.9678555941023417\n",
      "Optimization score: 17855\n",
      "Optimal tree inferred in 0.256 secs.\n",
      "(10,((14,(8,9)),(((7,6),(11,2)),(4,((15,((13,1),(3,(12,5)))),((22,(20,16)),((19,(24,17)),(23,(21,(18,25))))))))));\n",
      "Final quartet score is: 17855\n",
      "Final normalized quartet score is: 0.9678555941023417\n",
      "You may want to ignore posterior probabilities and other statistics related to the following branch branch because the effective number of genes impacting it is only 3:\n",
      "\t{18, 25}\n",
      "You may want to ignore posterior probabilities and other statistics related to the following branch branch because the effective number of genes impacting it is only 6:\n",
      "\t{21, 18, 25}\n",
      "You may want to ignore posterior probabilities and other statistics related to the following branch branch because the effective number of genes impacting it is only 5:\n",
      "\t{24, 17}\n",
      "You may want to ignore posterior probabilities and other statistics related to the following branch branch because the effective number of genes impacting it is only 10:\n",
      "\t{24, 19, 17}\n",
      "You may want to ignore posterior probabilities and other statistics related to the following branch branch because the effective number of genes impacting it is only 3:\n",
      "\t{20, 16}\n",
      "You may want to ignore posterior probabilities and other statistics related to the following branch branch because the effective number of genes impacting it is only 13:\n",
      "\t{13, 1}\n",
      "You may want to ignore posterior probabilities and other statistics related to the following branch branch because the effective number of genes impacting it is only 3:\n",
      "\t{7, 6}\n",
      "You may want to ignore posterior probabilities and other statistics related to the following branch branch because the effective number of genes impacting it is only 1:\n",
      "\t{11, 2}\n",
      "You may want to ignore posterior probabilities and other statistics related to the following branch branch because the effective number of genes impacting it is only 19:\n",
      "\t{8, 9}\n",
      "You may want to ignore posterior probabilities and other statistics related to the following branch branch because the effective number of genes impacting it is only 4:\n",
      "\t{14, 8, 9}\n",
      "You may want to ignore posterior probabilities and other statistics related to the following branch branch because the effective number of genes impacting it is only 8:\n",
      "\t{14, 8, 9, 10}\n",
      "You may want to ignore posterior probabilities and other statistics related to the following branch branch because the effective number of genes impacting it is only 12:\n",
      "\t{11, 14, 7, 8, 9, 2, 10, 6}\n",
      "(23,((21,(18,25)0.95:0.9808292530117262)1:1.5404450409471486,((19,(24,17)0.99:1.3862943611198908)1:1.9924301646902058,((22,(20,16)0.95:0.9808292530117262)1:3.120895416507997,((15,((13,1)1:1.5404450409471486,(3,(12,5)1:1.120591195386885)0.98:0.31237468504215243)1:3.542275979922058)1:3.079431292430641,(4,(((7,6)0.67:0.2876820724517809,(11,2)0.67:0.2876820724517809)1:2.961830721878311,((14,(8,9)1:2.590267165445826)0.1:0.0,10)1:1.7917594692280545)1:2.159484249353373)0:0.0)1:5.01948490937323)1:2.4022149339428878)1:2.730029107820986));\n",
      "Weight calculation took 0.027612471 secs\n",
      "ASTRAL finished in 0.371 secs\n",
      " processing /Users/sayemhasan/Desktop/Thesis/Terraces/raxml-ng/out/complete/astral/1_gt_species.tre\n",
      "/Users/sayemhasan/Desktop/Thesis/Terraces/raxml-ng/out/complete/astral/1_gt_species.tre was processed and saved as /Users/sayemhasan/Desktop/Thesis/Terraces/raxml-ng/out/complete/astral/1_gt_species.out.tre.\n",
      "/Users/sayemhasan/Desktop/Thesis/Terraces/raxml-ng/out/complete/astral/1_gt_species.out.tre\n",
      "sed: 1: \"/Users/sayemhasan/Deskt ...\": bad flag in substitute command: 'n'\n",
      "Finally processed /Users/sayemhasan/Desktop/Thesis/Terraces/raxml-ng/out/complete/astral/1_gt_species.out.tre\n",
      "Traceback (most recent call last):\n",
      "  File \"/Users/sayemhasan/Desktop/Thesis/Terraces/raxml-ng/postprocessor.py\", line 248, in <module>\n",
      "    main()\n",
      "  File \"/Users/sayemhasan/Desktop/Thesis/Terraces/raxml-ng/postprocessor.py\", line 236, in main\n",
      "    run_incomplete_ASTRAL()\n",
      "  File \"/Users/sayemhasan/Desktop/Thesis/Terraces/raxml-ng/postprocessor.py\", line 227, in run_incomplete_ASTRAL\n",
      "    assert dir_exists_abs(in_dir), in_dir + \\\n",
      "AssertionError: /Users/sayemhasan/Desktop/Thesis/Terraces/raxml-ng/out/incomplete/16-18/gt doesn't exist. please run the previous steps\n"
     ]
    }
   ],
   "source": [
    "!rm -rf in/\n",
    "!rm -rf out/\n",
    "!mkdir in\n",
    "!cp output/1_gt.tre in/\n",
    "!python3 postprocessor.py\n",
    "!cp out/complete/astral/1_gt_species.out.tre output/input.nwk"
   ]
  },
  {
   "cell_type": "code",
   "execution_count": 187,
   "metadata": {},
   "outputs": [],
   "source": [
    "OUTGROUP = 'GAL'\n",
    "\n",
    "st = open('output/input.nwk')\n",
    "st = st.read()\n",
    "gts = open('output/1_gt.tre')\n",
    "\n",
    "gts = gts.read().split(';\\n')[:-1] \n",
    "\n",
    "# print(len(gts))\n",
    "\n",
    "# print(st)\n",
    "taxaSet = getTaxaSet(st)\n",
    "# print(taxaSet)\n",
    "matrix = np.zeros((len(taxaSet), len(gts)), dtype=int)\n",
    "\n",
    "\n",
    "# print(len(gts))\n",
    "for gt_idx, gt in  enumerate(gts) :\n",
    "    # print(gt)\n",
    "    cur_taxaSet = getTaxaSet(gt)\n",
    "    # print(cur_taxaSet)\n",
    "    for i, tx in enumerate(taxaSet):\n",
    "        if tx  in cur_taxaSet or tx == OUTGROUP:\n",
    "            matrix[i][gt_idx] = 1"
   ]
  },
  {
   "cell_type": "code",
   "execution_count": 188,
   "metadata": {},
   "outputs": [],
   "source": [
    "with open('output/input.data', 'w', newline='') as f:\n",
    "    print(matrix.shape[0], matrix.shape[1], file=f)\n",
    "    for i in range(len(taxaSet)):\n",
    "        # f.write(matrix[i].tostring(), taxaSet[i])\n",
    "        print(*matrix[i],taxaSet[i], end='\\n', file=f)"
   ]
  },
  {
   "cell_type": "code",
   "execution_count": 189,
   "metadata": {},
   "outputs": [],
   "source": [
    "!rm -rf terrace_output\n",
    "!mkdir -p terrace_output\n",
    "!./bin/raxml-ng output/input.nwk output/input.data > terrace_output/terrace_output.txt"
   ]
  },
  {
   "cell_type": "code",
   "execution_count": 190,
   "metadata": {},
   "outputs": [
    {
     "name": "stdout",
     "output_type": "stream",
     "text": [
      "astral_rf_score 0.22727272727272727\n"
     ]
    }
   ],
   "source": [
    "\n",
    "#get RF score of ASTRAL OUTPUT\n",
    "csv_out_list = []\n",
    "astral_rf_score = calculate_RF_distance_for_a_ST(join_dir(gt_output_folder, \"input.nwk\"), true_tree)\n",
    "print(\"astral_rf_score\", astral_rf_score)\n",
    "csv_out_list += [(ASTRAL,INCOMPLETE ,\"\" , \"\", astral_rf_score)]\n",
    "\n",
    "#get RF score for each tree in Terrace\n",
    "terrace_rf_scores=calculate_RF_distance_for_terrace(join_dir(TERRACE_OUTPUT_FOLDER, \"terrace_output.txt\"), true_tree)\n",
    "# print(\"terrace_rf_scores\", terrace_rf_scores)\n",
    "if terrace_rf_scores is not None:\n",
    "    csv_out_list+=terrace_rf_scores\n",
    "\n",
    "\n"
   ]
  },
  {
   "cell_type": "code",
   "execution_count": 191,
   "metadata": {},
   "outputs": [],
   "source": [
    "# get consensus tree\n",
    "terrace_dir = join_dir(TERRACE_OUTPUT_FOLDER)\n",
    "consensus_dir = join_dir(terrace_dir, \"consensus\")\n",
    "!rm -rf \"$consensus_dir\"\n",
    "!mkdir \"$consensus_dir\"\n",
    "\n",
    "if not dir_exists_abs(terrace_dir):\n",
    "    print(\"Directory does not exist: {}\".format(terrace_dir))\n",
    "    exit(1)\n"
   ]
  },
  {
   "cell_type": "code",
   "execution_count": 192,
   "metadata": {},
   "outputs": [
    {
     "name": "stdout",
     "output_type": "stream",
     "text": [
      "Processing file: terrace_output/terrace_output.txt\n",
      "\n",
      "RAxML-NG v. 1.1.0-master released on 04.08.2022 by The Exelixis Lab.\n",
      "Developed by: Alexey M. Kozlov and Alexandros Stamatakis.\n",
      "Contributors: Diego Darriba, Tomas Flouri, Benoit Morel, Sarah Lutteropp, Ben Bettisworth.\n",
      "Latest version: https://github.com/amkozlov/raxml-ng\n",
      "Questions/problems/suggestions? Please visit: https://groups.google.com/forum/#!forum/raxml\n",
      "\n",
      "System: Apple M1, 8 cores, 8 GB RAM\n",
      "\n",
      "RAxML-NG was called at 30-Jan-2023 20:11:36 as follows:\n",
      "\n",
      "./bin/raxml-ng --consense MRE --tree terrace_output/terrace_output.txt --prefix terrace_output/consensus/terrace_output\n",
      "\n",
      "Analysis options:\n",
      "  run mode: Build consensus tree (MRE)\n",
      "  start tree(s): user\n",
      "  random seed: 1675087896\n",
      "  SIMD kernels: SSE3\n",
      "  parallelization: coarse-grained (auto), PTHREADS (auto)\n",
      "\n",
      "Reading input trees from file: terrace_output/terrace_output.txt\n",
      "Loaded 3 trees with 25 taxa.\n",
      "\n",
      "MRE consensus tree saved to: /Users/sayemhasan/Desktop/Thesis/Terraces/raxml-ng/terrace_output/consensus/terrace_output.raxml.consensusTreeMRE\n",
      "\n",
      "Execution log saved to: /Users/sayemhasan/Desktop/Thesis/Terraces/raxml-ng/terrace_output/consensus/terrace_output.raxml.log\n",
      "\n",
      "Analysis started: 30-Jan-2023 20:11:36 / finished: 30-Jan-2023 20:11:36\n",
      "\n",
      "Elapsed time: 0.002 seconds\n",
      "\n"
     ]
    }
   ],
   "source": [
    "for terrace_file in os.listdir(terrace_dir):\n",
    "    file_path = join_dir(terrace_dir, terrace_file)\n",
    "    if file_path.endswith(\".txt\"):\n",
    "        print(\"Processing file: {}\".format(file_path))\n",
    "        terrace_file_name = terrace_file.split(\".\")[0]\n",
    "        !./bin/raxml-ng --consense MRE --tree \"$file_path\" --prefix \"$consensus_dir\"/\"$terrace_file_name\""
   ]
  },
  {
   "cell_type": "code",
   "execution_count": 193,
   "metadata": {},
   "outputs": [],
   "source": [
    "def remove_numbers_from_consensus_tree(file_path):\n",
    "    file = open(file_path, \"r\")\n",
    "    lines = file.readlines()\n",
    "    line = lines[0]\n",
    "    line = re.sub(r'[0-9]', '', line)\n",
    "    # print(line)\n",
    "    file = open(file_path, 'w')\n",
    "    file.writelines(line)\n",
    "    file.close()"
   ]
  },
  {
   "cell_type": "code",
   "execution_count": 194,
   "metadata": {},
   "outputs": [
    {
     "name": "stdout",
     "output_type": "stream",
     "text": [
      "Processing file: terrace_output/consensus/terrace_output.raxml.consensusTreeMRE\n",
      "Consensus RF distance: 0.2727272727272727\n",
      "Astral RF Score :  0.22727272727272727\n"
     ]
    }
   ],
   "source": [
    "# print(\"Removing numbers from consensus trees\")\n",
    "CONSENSUS_TREE_EXTENSION = \"consensusTreeMRE\"\n",
    "for consensus_file in os.listdir(consensus_dir):\n",
    "    if consensus_file.endswith(CONSENSUS_TREE_EXTENSION):\n",
    "        file_path = join_dir(consensus_dir, consensus_file)\n",
    "        print(\"Processing file: {}\".format(file_path))\n",
    "        # remove_numbers_from_consensus_tree(file_path)\n",
    "        dist = calculate_RF_distance_for_a_ST(file_path, true_tree)\n",
    "        print(\"Consensus RF distance: {}\".format(dist))\n",
    "        csv_out_list.append([\"ASTRAL\", \"Consensus\",\"\",\"\", dist])\n",
    "print(\"Astral RF Score : \", astral_rf_score)\n",
    "\n",
    "stat_fl = 'stats/RF.csv'\n",
    "with open(stat_fl, 'w') as stat_file:\n",
    "    csv.writer(stat_file).writerows(csv_out_list)"
   ]
  }
 ],
 "metadata": {
  "kernelspec": {
   "display_name": "tf2",
   "language": "python",
   "name": "python3"
  },
  "language_info": {
   "codemirror_mode": {
    "name": "ipython",
    "version": 3
   },
   "file_extension": ".py",
   "mimetype": "text/x-python",
   "name": "python",
   "nbconvert_exporter": "python",
   "pygments_lexer": "ipython3",
   "version": "3.11.0"
  },
  "orig_nbformat": 4,
  "vscode": {
   "interpreter": {
    "hash": "cfd499bf418f77ed98604f368b9dcc9d49d2a51ff3f93a138504985eb88a9fa1"
   }
  }
 },
 "nbformat": 4,
 "nbformat_minor": 2
}
