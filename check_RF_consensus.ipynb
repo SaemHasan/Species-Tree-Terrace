{
 "cells": [
  {
   "cell_type": "code",
   "execution_count": 28,
   "metadata": {},
   "outputs": [],
   "source": [
    "import numpy as np\n",
    "import re\n",
    "import ast\n",
    "import subprocess\n",
    "import os, csv\n",
    "from codes.utils.file import create_file_abs, create_parent_dir, dir_exists_abs, file_exists_absolute, join_dir, file_exists_current, file_remove_current\n",
    "from codes.parameters import ASTRAL, NUMPY_EXTENSION, QUARTETS, SCRIPT_FOLDER, STATS_FOLDER, TRUE_FOLDER, WQFM, \\\n",
    "    COMPLETE, GENE_TREE, QUARTETS, INCOMPLETE, IMPUTED_LIST, OUTPUT_FOLDER, NUMPY_ARRAY, REMOVED_TAXA_RANGE, INPUT_FOLDER, \\\n",
    "    QUARTETS_EXTENSION, MODES_LIST, WORKING_FOLDER, METHODS, TERRACE_OUTPUT_FOLDER"
   ]
  },
  {
   "cell_type": "code",
   "execution_count": 29,
   "metadata": {},
   "outputs": [],
   "source": [
    "# from IPython import get_ipython"
   ]
  },
  {
   "cell_type": "code",
   "execution_count": 30,
   "metadata": {},
   "outputs": [],
   "source": [
    "terrace_dir = join_dir(TERRACE_OUTPUT_FOLDER)\n",
    "consensus_dir = join_dir(terrace_dir, \"consensus\")\n",
    "!rm -rf \"$consensus_dir\"\n",
    "!mkdir \"$consensus_dir\"\n",
    "\n",
    "if not dir_exists_abs(terrace_dir):\n",
    "    print(\"Directory does not exist: {}\".format(terrace_dir))\n",
    "    exit(1)"
   ]
  },
  {
   "cell_type": "code",
   "execution_count": 31,
   "metadata": {},
   "outputs": [
    {
     "name": "stdout",
     "output_type": "stream",
     "text": [
      "Processing file: terrace_output/14-17_12_gt_species.txt\n",
      "\n",
      "RAxML-NG v. 1.1.0-master released on 04.08.2022 by The Exelixis Lab.\n",
      "Developed by: Alexey M. Kozlov and Alexandros Stamatakis.\n",
      "Contributors: Diego Darriba, Tomas Flouri, Benoit Morel, Sarah Lutteropp, Ben Bettisworth.\n",
      "Latest version: https://github.com/amkozlov/raxml-ng\n",
      "Questions/problems/suggestions? Please visit: https://groups.google.com/forum/#!forum/raxml\n",
      "\n",
      "System: Apple M1, 8 cores, 8 GB RAM\n",
      "\n",
      "RAxML-NG was called at 31-Jan-2023 11:26:36 as follows:\n",
      "\n",
      "./bin/raxml-ng --consense MRE --tree terrace_output/14-17_12_gt_species.txt --prefix terrace_output/consensus/14-17_12_gt_species\n",
      "\n",
      "Analysis options:\n",
      "  run mode: Build consensus tree (MRE)\n",
      "  start tree(s): user\n",
      "  random seed: 1675142796\n",
      "  SIMD kernels: SSE3\n",
      "  parallelization: coarse-grained (auto), PTHREADS (auto)\n",
      "\n",
      "Reading input trees from file: terrace_output/14-17_12_gt_species.txt\n",
      "Loaded 2001 trees with 37 taxa.\n",
      "\n",
      "MRE consensus tree saved to: /Users/sayemhasan/Desktop/Thesis/Terraces/raxml-ng/terrace_output/consensus/14-17_12_gt_species.raxml.consensusTreeMRE\n",
      "\n",
      "Execution log saved to: /Users/sayemhasan/Desktop/Thesis/Terraces/raxml-ng/terrace_output/consensus/14-17_12_gt_species.raxml.log\n",
      "\n",
      "Analysis started: 31-Jan-2023 11:26:36 / finished: 31-Jan-2023 11:26:36\n",
      "\n",
      "Elapsed time: 0.109 seconds\n",
      "\n"
     ]
    }
   ],
   "source": [
    "# get consensus trees\n",
    "for terrace_file in os.listdir(terrace_dir):\n",
    "    file_path = join_dir(terrace_dir, terrace_file)\n",
    "    if file_path.endswith(\".txt\"):\n",
    "        print(\"Processing file: {}\".format(file_path))\n",
    "        terrace_file_name = terrace_file.split(\".\")[0]\n",
    "        !./bin/raxml-ng --consense MRE --tree \"$file_path\" --prefix \"$consensus_dir\"/\"$terrace_file_name\"\n",
    "        # shell_script_path = join_dir(\"./bin/raxml-ng\")\n",
    "        # output_path = join_dir(consensus_dir, terrace_file_name)\n",
    "        # result = subprocess.run([shell_script_path, \"--consense MRE\", \"--tree\", file_path, \"--prefix\", output_path], stdout=subprocess.PIPE, stderr=subprocess.PIPE)\n",
    "        # print(result.stdout)"
   ]
  },
  {
   "cell_type": "code",
   "execution_count": 32,
   "metadata": {},
   "outputs": [],
   "source": [
    "def remove_numbers_from_consensus_tree(file_path):\n",
    "    file = open(file_path, \"r\")\n",
    "    lines = file.readlines()\n",
    "    line = lines[0]\n",
    "    line = re.sub(r'[0-9]', '', line)\n",
    "    # print(line)\n",
    "    file = open(file_path, 'w')\n",
    "    file.writelines(line)\n",
    "    file.close()"
   ]
  },
  {
   "cell_type": "code",
   "execution_count": 33,
   "metadata": {},
   "outputs": [],
   "source": [
    "# get RF distance\n",
    "def get_RF_distance(true_tree, file_abs):\n",
    "    result = ast.literal_eval(subprocess.check_output(['getFpFn.py', '-t', true_tree, '-e', file_abs], encoding='UTF-8'))\n",
    "    assert result[0] == result[1] == result[2]\n",
    "    dist = str(result[0])\n",
    "    # print( dist)\n",
    "    return dist"
   ]
  },
  {
   "cell_type": "code",
   "execution_count": 34,
   "metadata": {},
   "outputs": [],
   "source": [
    "true_tree = join_dir(TRUE_FOLDER, 'true-species.out.tree')"
   ]
  },
  {
   "cell_type": "code",
   "execution_count": 35,
   "metadata": {},
   "outputs": [
    {
     "name": "stdout",
     "output_type": "stream",
     "text": [
      "Removing numbers from consensus trees\n",
      "Processing file: terrace_output/consensus/14-17_12_gt_species.raxml.consensusTreeMRE\n",
      "RF distance: 0.35294117647058826\n"
     ]
    }
   ],
   "source": [
    "print(\"Removing numbers from consensus trees\")\n",
    "CONSENSUS_TREE_EXTENSION = \"consensusTreeMRE\"\n",
    "csv_out_list = []\n",
    "for consensus_file in os.listdir(consensus_dir):\n",
    "    if consensus_file.endswith(CONSENSUS_TREE_EXTENSION):\n",
    "        file_path = join_dir(consensus_dir, consensus_file)\n",
    "        print(\"Processing file: {}\".format(file_path))\n",
    "        remove_numbers_from_consensus_tree(file_path)\n",
    "        dist = get_RF_distance(true_tree, file_path)\n",
    "        print(\"RF distance: {}\".format(dist))\n",
    "        missing_range = consensus_file.split(\".\")[0].split(\"_\")[0]\n",
    "        replica_no = consensus_file.split(\".\")[0].split(\"_\")[1]\n",
    "        csv_out_list.append([replica_no, missing_range, dist])\n",
    "# print(csv_out_list)"
   ]
  },
  {
   "cell_type": "code",
   "execution_count": 36,
   "metadata": {},
   "outputs": [],
   "source": [
    "stats_file = \"stats/RF_consensus.csv\"\n",
    "with open(stats_file, \"w\") as stat_file:\n",
    "    csv.writer(stat_file).writerows(csv_out_list)"
   ]
  }
 ],
 "metadata": {
  "kernelspec": {
   "display_name": "tf2",
   "language": "python",
   "name": "python3"
  },
  "language_info": {
   "codemirror_mode": {
    "name": "ipython",
    "version": 3
   },
   "file_extension": ".py",
   "mimetype": "text/x-python",
   "name": "python",
   "nbconvert_exporter": "python",
   "pygments_lexer": "ipython3",
   "version": "3.11.0"
  },
  "orig_nbformat": 4,
  "vscode": {
   "interpreter": {
    "hash": "cfd499bf418f77ed98604f368b9dcc9d49d2a51ff3f93a138504985eb88a9fa1"
   }
  }
 },
 "nbformat": 4,
 "nbformat_minor": 2
}
