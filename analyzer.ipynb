{
 "cells": [
  {
   "cell_type": "code",
   "execution_count": null,
   "metadata": {},
   "outputs": [],
   "source": [
    "import numpy as np\n",
    "import pandas as pd\n",
    "from codes.parameters import REMOVED_TAXA_RANGE, ASTRAL, INCOMPLETE, COMPLETE, NUMBER_OF_REPLICA\n"
   ]
  },
  {
   "cell_type": "code",
   "execution_count": null,
   "metadata": {},
   "outputs": [],
   "source": [
    "number_of_range = len(REMOVED_TAXA_RANGE)"
   ]
  },
  {
   "cell_type": "code",
   "execution_count": null,
   "metadata": {},
   "outputs": [],
   "source": [
    "df = pd.read_csv('stats/RF.csv', header=None)\n",
    "# df = df.groupby(by=[0, 1, 2, 3]).mean()\n",
    "df.head()"
   ]
  },
  {
   "cell_type": "code",
   "execution_count": null,
   "metadata": {},
   "outputs": [],
   "source": [
    "arr = df.values[:, [0,1,4,2,3]]\n",
    "arr = np.array(arr)\n",
    "# arr"
   ]
  },
  {
   "cell_type": "code",
   "execution_count": null,
   "metadata": {},
   "outputs": [],
   "source": [
    "df2 = pd.read_csv('stats/RF_consensus.csv', header=None)\n",
    "df2=df2.sort_values(by=[0,1])\n",
    "df2.head()\n",
    "consensus_arr = df2.values[:,:]\n",
    "consensus_arr"
   ]
  },
  {
   "cell_type": "code",
   "execution_count": null,
   "metadata": {},
   "outputs": [],
   "source": [
    "def consensus_rf_score(replica_no, missing_range):\n",
    "    val = -1\n",
    "    for i in range(len(consensus_arr)):\n",
    "        if consensus_arr[i][0] == replica_no and consensus_arr[i][1] == missing_range:\n",
    "            val = consensus_arr[i][2]\n",
    "            break\n",
    "    return val"
   ]
  },
  {
   "cell_type": "code",
   "execution_count": null,
   "metadata": {},
   "outputs": [],
   "source": [
    "consensus_rf_score(2, '8-10')"
   ]
  },
  {
   "cell_type": "code",
   "execution_count": null,
   "metadata": {},
   "outputs": [],
   "source": [
    "METHOD = ASTRAL\n",
    "PREV_MISSING_RANGE = \"\"\n",
    "PREV_REPLICA_NAME = \"\""
   ]
  },
  {
   "cell_type": "code",
   "execution_count": null,
   "metadata": {},
   "outputs": [],
   "source": [
    "CONSENSUS_BETTER = 0\n",
    "CONSENSUS_WORSE = 0\n",
    "CONSENSUS_SAME = 0"
   ]
  },
  {
   "cell_type": "code",
   "execution_count": null,
   "metadata": {},
   "outputs": [],
   "source": [
    "rows, cols = arr.shape\n",
    "astral_rf_score=0\n",
    "astral_row_number = -1\n",
    "terrace_total_RF = 0\n",
    "terrace_cnt =0\n",
    "cur_range_cnt = -1\n",
    "for i in range(rows):\n",
    "    if arr[i][0] == METHOD and arr[i][1] == COMPLETE:\n",
    "        print(arr[i][4], \"==> Complete --> \"+ METHOD + \" RF Score : \", arr[i][2])\n",
    "        continue\n",
    "\n",
    "    if arr[i][0] == METHOD and arr[i][1] == INCOMPLETE and arr[i][3] != PREV_MISSING_RANGE:\n",
    "        astral_rf_score = arr[i][2]\n",
    "        astral_row_number = i\n",
    "        PREV_MISSING_RANGE = arr[i][3]\n",
    "        PREV_REPLICA_NAME = arr[i][4]\n",
    "        terrace_total_RF = 0\n",
    "        terrace_cnt = 0\n",
    "        cnt = np.zeros(3, dtype=int)\n",
    "        cur_range_cnt += 1\n",
    "        continue\n",
    "\n",
    "    if arr[i][0] == METHOD and arr[i][1] == INCOMPLETE and arr[i][3] == PREV_MISSING_RANGE and arr[i][4] != PREV_REPLICA_NAME:\n",
    "        astral_rf_score = arr[i][2]\n",
    "        astral_row_number = i\n",
    "        PREV_MISSING_RANGE = arr[i][3]\n",
    "        PREV_REPLICA_NAME = arr[i][4]\n",
    "        terrace_total_RF = 0\n",
    "        terrace_cnt = 0\n",
    "        cnt = np.zeros(3, dtype=int)\n",
    "        continue\n",
    "    \n",
    "\n",
    "    terrace_total_RF += arr[i][2]\n",
    "    terrace_cnt += 1\n",
    "    # print(\"Missing Range: \", REMOVED_TAXA_RANGE[cur_range_cnt])\n",
    "    if arr[i][2] < astral_rf_score:\n",
    "        cnt[0] += 1 # better\n",
    "    elif arr[i][2] == astral_rf_score:\n",
    "        cnt[1] += 1 # same\n",
    "    else:\n",
    "        cnt[2] += 1 # worse\n",
    "    \n",
    "    if (i < rows-1 and arr[i+1][0] == METHOD and arr[i+1][1] == INCOMPLETE) or i == rows-1:\n",
    "        replica_no = int(arr[astral_row_number][4].split(\"_\")[0])\n",
    "        sum = cnt[0] + cnt[1] + cnt[2]\n",
    "        print(\"Missing Range: \", REMOVED_TAXA_RANGE[cur_range_cnt])\n",
    "        print(\"Replica Name: \", arr[astral_row_number][4])\n",
    "        print(\"Total Number of Trees in Terrace: \", sum)\n",
    "        print(f\"Number of Trees Better than {METHOD} : \", cnt[0], \"\\t percentage ; \", cnt[0]/sum*100, \"%\")\n",
    "        print(f\"Number of Trees Equal to {METHOD} : \", cnt[1], \"\\t percentage ; \", cnt[1]/sum*100, \"%\")\n",
    "        print(f\"Number of Trees Worse than {METHOD} : \", cnt[2], \"\\t percentage ; \", cnt[2]/sum*100, \"%\")\n",
    "        print(METHOD+\" RF Score : \", astral_rf_score, \"\\t Terrace avg RF Score: \", terrace_total_RF/terrace_cnt)\n",
    "        consensus_rf = consensus_rf_score(replica_no, REMOVED_TAXA_RANGE[cur_range_cnt])\n",
    "        print(\"Consensus RF Score: \", consensus_rf)\n",
    "        print(\"\\n\\n\")\n",
    "        if consensus_rf != -1:\n",
    "            if consensus_rf < astral_rf_score:\n",
    "                CONSENSUS_BETTER += 1\n",
    "            elif consensus_rf == astral_rf_score:\n",
    "                CONSENSUS_SAME += 1\n",
    "            else:\n",
    "                CONSENSUS_WORSE += 1\n",
    "        "
   ]
  },
  {
   "cell_type": "code",
   "execution_count": null,
   "metadata": {},
   "outputs": [],
   "source": [
    "print(\"Number of Replica where consensus RF Scores Better: \", CONSENSUS_BETTER)\n",
    "print(\"Number of Replica where consensus RF Scores Same: \", CONSENSUS_SAME)\n",
    "print(\"Number of Replica where consensus RF Scores Worse: \", CONSENSUS_WORSE)"
   ]
  }
 ],
 "metadata": {
  "kernelspec": {
   "display_name": "tf2",
   "language": "python",
   "name": "python3"
  },
  "language_info": {
   "codemirror_mode": {
    "name": "ipython",
    "version": 3
   },
   "file_extension": ".py",
   "mimetype": "text/x-python",
   "name": "python",
   "nbconvert_exporter": "python",
   "pygments_lexer": "ipython3",
   "version": "3.11.0 | packaged by conda-forge | (main, Oct 25 2022, 06:21:25) [Clang 14.0.4 ]"
  },
  "orig_nbformat": 4,
  "vscode": {
   "interpreter": {
    "hash": "cfd499bf418f77ed98604f368b9dcc9d49d2a51ff3f93a138504985eb88a9fa1"
   }
  }
 },
 "nbformat": 4,
 "nbformat_minor": 2
}
