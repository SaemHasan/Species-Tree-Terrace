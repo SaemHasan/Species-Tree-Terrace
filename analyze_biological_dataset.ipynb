{
 "cells": [
  {
   "cell_type": "code",
   "execution_count": 150,
   "metadata": {},
   "outputs": [],
   "source": [
    "from codes.utils.file import *\n",
    "import re\n",
    "import numpy as np"
   ]
  },
  {
   "cell_type": "code",
   "execution_count": 151,
   "metadata": {},
   "outputs": [],
   "source": [
    "gt_output_folder= \"output\"\n",
    "gt_output_file_name= \"1_gt.tre\"\n",
    "true_species_tree_name= \"true-species.out.tree\"\n",
    "All_GTs_file_name = \"all_gt.tre\"\n",
    "astral_tree_name = \"astral.exact.tre\""
   ]
  },
  {
   "cell_type": "code",
   "execution_count": 152,
   "metadata": {},
   "outputs": [],
   "source": [
    "dataset_path = join_dir(\"dataset\", \"Datasets-Biological\")"
   ]
  },
  {
   "cell_type": "code",
   "execution_count": 153,
   "metadata": {},
   "outputs": [],
   "source": [
    "# run avian\n",
    "avian_path = join_dir(dataset_path, \"avian\")\n",
    "# desired_path = join_dir(avian_path, \"exon\")\n",
    "\n",
    "aminota_nt_path = join_dir(dataset_path, \"aminota-nt\")\n",
    "desired_path = aminota_nt_path"
   ]
  },
  {
   "cell_type": "code",
   "execution_count": 154,
   "metadata": {},
   "outputs": [],
   "source": [
    "def remove_one(input_str):\n",
    "    output_str = re.sub(r\"1(?=[^\\d_])\", \"\", input_str)\n",
    "    return output_str\n",
    "\n",
    "def remove_numbers_after_colon(input_str):\n",
    "    output_str = re.sub(r':[^,\\)]+', '', input_str)\n",
    "    output_str = remove_one(output_str)\n",
    "    return output_str\n",
    "\n",
    "def remove_numbers_before_and_after_colon(input_str):\n",
    "    output_str = re.sub(r'((\\d+\\.\\d+)|\\d+):[^,\\)]+', '', input_str)\n",
    "    return output_str\n",
    "\n",
    "def remove_any_numbers(input_str):\n",
    "    output_str = re.sub(r'((\\d+\\.\\d+)|\\d+)', '', input_str)\n",
    "    return output_str"
   ]
  },
  {
   "cell_type": "code",
   "execution_count": 155,
   "metadata": {},
   "outputs": [],
   "source": [
    "def remove_and_create_output_folder(dir_current_path):\n",
    "    remove_dir_current(dir_current_path)\n",
    "    create_dir_current(dir_current_path)"
   ]
  },
  {
   "cell_type": "code",
   "execution_count": 156,
   "metadata": {},
   "outputs": [],
   "source": [
    "# analyze avian(exon)\n",
    "remove_and_create_output_folder(gt_output_folder)\n",
    "\n",
    "# read all_gt.tre from exon folder and write to 1_gt.tre and remove number after colon in each gt\n",
    "\n",
    "gt_path = join_dir(desired_path, All_GTs_file_name)\n",
    "gt_output_path = join_dir(gt_output_folder, gt_output_file_name)\n",
    "\n",
    "with open(gt_path, 'r') as f:\n",
    "    with open(gt_output_path, 'w') as f1:\n",
    "        for line in f:\n",
    "            line = remove_numbers_after_colon(line)\n",
    "            line = remove_any_numbers(line)\n",
    "            f1.write(line)\n",
    "\n",
    "# copy astral tree to output folder\n",
    "astral_tree_path = join_dir(desired_path, astral_tree_name)\n",
    "astral_tree_output_path = join_dir(gt_output_folder, \"input.nwk\")\n",
    "copy_file_current(astral_tree_path, astral_tree_output_path)"
   ]
  },
  {
   "cell_type": "code",
   "execution_count": 157,
   "metadata": {},
   "outputs": [],
   "source": [
    "def getTaxaSet(t):\n",
    "    return t.replace('(', '').replace(')', '').split(';')[0].split(':')[0].split(',')"
   ]
  },
  {
   "cell_type": "code",
   "execution_count": 158,
   "metadata": {},
   "outputs": [],
   "source": [
    "def get_INPUT_DATA():\n",
    "    OUTGROUP = 'GAL'\n",
    "    st = open('output/input.nwk')\n",
    "    st = st.read()\n",
    "    gts = open('output/1_gt.tre')\n",
    "\n",
    "    gts = gts.read().split(';\\n')[:-1] \n",
    "\n",
    "    # print(len(gts))\n",
    "\n",
    "    # print(st)\n",
    "    taxaSet = getTaxaSet(st)\n",
    "    # print(taxaSet)\n",
    "    matrix = np.zeros((len(taxaSet), len(gts)), dtype=int)\n",
    "\n",
    "\n",
    "    # print(len(gts))\n",
    "    for gt_idx, gt in  enumerate(gts) :\n",
    "        # print(gt)\n",
    "        cur_taxaSet = getTaxaSet(gt)\n",
    "        # print(cur_taxaSet)\n",
    "        for i, tx in enumerate(taxaSet):\n",
    "            if tx  in cur_taxaSet or tx == OUTGROUP:\n",
    "                matrix[i][gt_idx] = 1\n",
    "    with open('output/input.data', 'w', newline='') as f:\n",
    "        print(matrix.shape[0], matrix.shape[1], file=f)\n",
    "        for i in range(len(taxaSet)):\n",
    "            # f.write(matrix[i].tostring(), taxaSet[i])\n",
    "            print(*matrix[i],taxaSet[i], end='\\n', file=f)"
   ]
  },
  {
   "cell_type": "code",
   "execution_count": 159,
   "metadata": {},
   "outputs": [],
   "source": [
    "get_INPUT_DATA()"
   ]
  },
  {
   "cell_type": "code",
   "execution_count": 160,
   "metadata": {},
   "outputs": [],
   "source": [
    "def getTerrace():\n",
    "    # !rm -rf terrace_output\n",
    "    remove_dir_current(\"terrace_output\")\n",
    "    # !mkdir -p terrace_output\n",
    "    create_dir_current(\"terrace_output\")\n",
    "    \n",
    "    !./bin/raxml-ng output/input.nwk output/input.data > terrace_output/terrace_output.txt"
   ]
  },
  {
   "cell_type": "code",
   "execution_count": 161,
   "metadata": {},
   "outputs": [],
   "source": [
    "getTerrace()"
   ]
  }
 ],
 "metadata": {
  "kernelspec": {
   "display_name": "tf2",
   "language": "python",
   "name": "python3"
  },
  "language_info": {
   "codemirror_mode": {
    "name": "ipython",
    "version": 3
   },
   "file_extension": ".py",
   "mimetype": "text/x-python",
   "name": "python",
   "nbconvert_exporter": "python",
   "pygments_lexer": "ipython3",
   "version": "3.11.0"
  },
  "orig_nbformat": 4
 },
 "nbformat": 4,
 "nbformat_minor": 2
}
