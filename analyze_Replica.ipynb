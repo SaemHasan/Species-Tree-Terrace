{
 "cells": [
  {
   "cell_type": "code",
   "execution_count": null,
   "metadata": {},
   "outputs": [],
   "source": [
    "import numpy as np\n",
    "import pandas as pd\n",
    "from codes.parameters import REMOVED_TAXA_RANGE, NUMBER_OF_REPLICA"
   ]
  },
  {
   "cell_type": "code",
   "execution_count": null,
   "metadata": {},
   "outputs": [],
   "source": [
    "NUMBER_OF_GTS = 10"
   ]
  },
  {
   "cell_type": "code",
   "execution_count": null,
   "metadata": {},
   "outputs": [],
   "source": [
    "def keep_only_SOME_GTS(replica_number, number_of_GTS):\n",
    "    replica_name = str(replica_number) + \"_gt.tre\"\n",
    "    file = open(\"in/\"+replica_name, \"r\")\n",
    "    file_content = file.readlines()\n",
    "    file.close()\n",
    "    # idxs = np.random.choice(len(file_content), number_of_GTS, replace=False)\n",
    "    # file_content = [file_content[idx] for idx in idxs]\n",
    "    file_content = file_content[:number_of_GTS]\n",
    "    # print(file_content)\n",
    "    # exit(1)\n",
    "    file = open(\"in/\"+replica_name, \"w\")\n",
    "    file.writelines(file_content)\n",
    "    file.close()"
   ]
  },
  {
   "cell_type": "code",
   "execution_count": null,
   "metadata": {},
   "outputs": [],
   "source": [
    "!./copy_replica_to_in_folder.sh $NUMBER_OF_REPLICA"
   ]
  },
  {
   "cell_type": "code",
   "execution_count": null,
   "metadata": {},
   "outputs": [],
   "source": [
    "for i in range(1, NUMBER_OF_REPLICA+1, 1):\n",
    "    # print(\"Replica number: \", i)\n",
    "    keep_only_SOME_GTS(i, NUMBER_OF_GTS)"
   ]
  },
  {
   "cell_type": "code",
   "execution_count": null,
   "metadata": {},
   "outputs": [],
   "source": [
    "# print(\"Removed taxa range: \", REMOVED_TAXA_RANGE)\n",
    "removed_taxa_range_list = \"\"\n",
    "for i in range(0, len(REMOVED_TAXA_RANGE), 1):\n",
    "    if i == len(REMOVED_TAXA_RANGE)-1:\n",
    "        removed_taxa_range_list += str(REMOVED_TAXA_RANGE[i])\n",
    "    else:\n",
    "        removed_taxa_range_list += str(REMOVED_TAXA_RANGE[i]) + \", \"\n",
    "print(\"Removed taxa range: \", removed_taxa_range_list)\n",
    "\n",
    "replica_list = \"\"\n",
    "for i in range(1, NUMBER_OF_REPLICA+1, 1):\n",
    "    if i == NUMBER_OF_REPLICA:\n",
    "        replica_list += str(i)\n",
    "    else:\n",
    "        replica_list += str(i) + \", \"\n",
    "print(\"Replica list: \", replica_list)"
   ]
  },
  {
   "cell_type": "code",
   "execution_count": null,
   "metadata": {},
   "outputs": [],
   "source": [
    "\n",
    "!./run_for_difRange_difReplica.sh \"$removed_taxa_range_list\" \"$replica_list\""
   ]
  },
  {
   "cell_type": "code",
   "execution_count": null,
   "metadata": {},
   "outputs": [],
   "source": [
    "print(\"NOW RUN CHECK RF CONSENSUS NOTEBOOK\")"
   ]
  },
  {
   "cell_type": "code",
   "execution_count": null,
   "metadata": {},
   "outputs": [],
   "source": [
    "print(\"NOW RUN ANALYZER NOTEBOOK\")\n",
    "!echo \"Running Analysis................\";\n",
    "!jupyter nbconvert --to script analyzer.ipynb\n",
    "!python analyzer.py"
   ]
  }
 ],
 "metadata": {
  "kernelspec": {
   "display_name": "tf2",
   "language": "python",
   "name": "python3"
  },
  "language_info": {
   "codemirror_mode": {
    "name": "ipython",
    "version": 3
   },
   "file_extension": ".py",
   "mimetype": "text/x-python",
   "name": "python",
   "nbconvert_exporter": "python",
   "pygments_lexer": "ipython3",
   "version": "3.11.0"
  },
  "orig_nbformat": 4,
  "vscode": {
   "interpreter": {
    "hash": "cfd499bf418f77ed98604f368b9dcc9d49d2a51ff3f93a138504985eb88a9fa1"
   }
  }
 },
 "nbformat": 4,
 "nbformat_minor": 2
}
