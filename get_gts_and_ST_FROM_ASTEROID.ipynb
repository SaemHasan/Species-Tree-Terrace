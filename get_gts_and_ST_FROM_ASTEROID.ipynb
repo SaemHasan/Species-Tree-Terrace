{
 "cells": [
  {
   "cell_type": "code",
   "execution_count": 25,
   "metadata": {},
   "outputs": [],
   "source": [
    "import os\n",
    "import shutil"
   ]
  },
  {
   "cell_type": "code",
   "execution_count": 26,
   "metadata": {},
   "outputs": [],
   "source": [
    "# file Utils\n",
    "def dir_exists_abs(abs_dir_name):\n",
    "    '''\n",
    "    Check if a directory exists.\n",
    "    '''\n",
    "    return os.path.isdir(abs_dir_name)\n",
    "\n",
    "def join_dir(first, *second):\n",
    "    '''\n",
    "    Join two directories.\n",
    "    first: str\n",
    "    *second: str list \n",
    "    '''\n",
    "    ret = first\n",
    "    for folder in second:\n",
    "        if folder == '':\n",
    "            continue \n",
    "        ret = os.path.join(ret, folder)\n",
    "    return ret\n",
    "\n",
    "def create_dir_current(cur_dir_name):\n",
    "    '''\n",
    "    creates a directory. \n",
    "    '''\n",
    "    os.makedirs(cur_dir_name, exist_ok=True)\n",
    "\n",
    "def remove_dir_current(cur_dir_name):\n",
    "    '''\n",
    "    removes a directory. \n",
    "    '''\n",
    "    if dir_exists_abs(cur_dir_name):\n",
    "        # remove non empty directory\n",
    "        shutil.rmtree(cur_dir_name)"
   ]
  },
  {
   "cell_type": "code",
   "execution_count": 27,
   "metadata": {},
   "outputs": [],
   "source": [
    "dataset_path = join_dir(\"dataset\", \"asteroid_dataset\", \"withils\")"
   ]
  },
  {
   "cell_type": "code",
   "execution_count": 28,
   "metadata": {},
   "outputs": [],
   "source": [
    "# in asteroid dataset\n",
    "gt_file_name=\"true.true.geneTree.newick\"\n",
    "# gt_file_name = \"raxml-ng.GTR+G.geneTree.newick\"\n",
    "species_tree_name=\"speciesTree.newick\"\n",
    "# species_tree_name= \"fastrfs-raxml-ng_greedy.GTR+G.speciesTree.newick\""
   ]
  },
  {
   "cell_type": "code",
   "execution_count": 29,
   "metadata": {},
   "outputs": [],
   "source": [
    "# for our experiment\n",
    "gt_output_folder= \"output\"\n",
    "gt_output_file_name= \"1_gt.tre\"\n",
    "true_species_tree_name= \"true-species.out.tre\""
   ]
  },
  {
   "cell_type": "code",
   "execution_count": 30,
   "metadata": {},
   "outputs": [],
   "source": [
    "def remove_and_create_output_folder(dir_current_path):\n",
    "    remove_dir_current(dir_current_path)\n",
    "    create_dir_current(dir_current_path)"
   ]
  },
  {
   "cell_type": "code",
   "execution_count": 31,
   "metadata": {},
   "outputs": [],
   "source": [
    "import re\n",
    "\n",
    "def remove_one(input_str):\n",
    "    output_str = re.sub(r\"1(?=[^\\d_])\", \"\", input_str)\n",
    "    return output_str\n",
    "\n",
    "def remove_numbers_after_colon(input_str):\n",
    "    output_str = re.sub(r':[^,\\)]+', '', input_str)\n",
    "    output_str = remove_one(output_str)\n",
    "    return output_str\n",
    "\n",
    "def remove_numbers_before_and_after_colon(input_str):\n",
    "    output_str = re.sub(r'((\\d+\\.\\d+)|\\d+):[^,\\)]+', '', input_str)\n",
    "    return output_str\n",
    "\n",
    "def remove_numbers_after_colon_NO_NEED_TO_REMOVE_ONE(input_str):\n",
    "    output_str = re.sub(r':[^,\\)]+', '', input_str)\n",
    "    return output_str\n",
    "\n",
    "# like remove 0.42, 0.92 \n",
    "def remove_numbers_after_decimal(input_str):\n",
    "    output_str = re.sub(r'0\\.\\d+', '', input_str)\n",
    "    return output_str"
   ]
  },
  {
   "cell_type": "code",
   "execution_count": 32,
   "metadata": {},
   "outputs": [],
   "source": [
    "# provide families folder path\n",
    "def get_all_GTs(families_folder):\n",
    "    all_gts = []\n",
    "    for dir in os.listdir(families_folder):\n",
    "        # print(dir)\n",
    "        # save mapping from mapping folder\n",
    "        mapping={}\n",
    "        mapping_dir=\"mappings\"\n",
    "        mapping_file_path=families_folder+\"/\"+dir+\"/\"+mapping_dir+\"/treerecs_mapping.link\"\n",
    "        if os.path.exists(mapping_file_path):\n",
    "            # print(mapping_file_path)\n",
    "            with open(mapping_file_path) as f:\n",
    "                for line in f:\n",
    "                    # print(line)\n",
    "                    (key, val) = line.split()\n",
    "                    mapping[key] = val\n",
    "        else:\n",
    "            print(\"mapping file not found\")\n",
    "        if len(mapping) == 0:\n",
    "            print(\"mapping is empty\")\n",
    "        # print(mapping)\n",
    "        gt_tree_dir=\"gene_trees\"\n",
    "        gt_tree_file_path=families_folder+\"/\"+dir+\"/\"+gt_tree_dir+\"/\"+gt_file_name\n",
    "        if not os.path.exists(gt_tree_file_path):\n",
    "            print(\"file not exists\")\n",
    "            exit(1)\n",
    "        with open(gt_tree_file_path) as f:\n",
    "            line = f.readline()\n",
    "            line = remove_numbers_after_colon(line)\n",
    "            # print(line)\n",
    "            for key in mapping:\n",
    "                line = line.replace(key, mapping[key])\n",
    "            all_gts.append(line)\n",
    "            # print(line)\n",
    "    #output to a file in output folder\n",
    "    with open(gt_output_folder+\"/\"+gt_output_file_name, \"w\") as f:\n",
    "        for gt in all_gts:\n",
    "            f.write(gt+\"\\n\")\n",
    "            # f.write(gt)"
   ]
  },
  {
   "cell_type": "code",
   "execution_count": 33,
   "metadata": {},
   "outputs": [],
   "source": [
    "def get_True_Species_Tree(source_folder):\n",
    "    # copy species tree to output folder\n",
    "    # species_tree_path = source_folder+\"/species_trees/\"+species_tree_name\n",
    "    species_tree_path = join_dir(source_folder, \"species_trees\", species_tree_name)\n",
    "    with open(species_tree_path) as f:\n",
    "        line = f.readline()\n",
    "        line = remove_numbers_after_colon_NO_NEED_TO_REMOVE_ONE(line)\n",
    "        with open(gt_output_folder+\"/\"+true_species_tree_name, \"w\") as f:\n",
    "            f.write(line)\n"
   ]
  },
  {
   "cell_type": "code",
   "execution_count": 34,
   "metadata": {},
   "outputs": [],
   "source": [
    "\n",
    "def get_gts_trueST(numberOfSpecies):\n",
    "    MODEL_CONDITION = numberOfSpecies\n",
    "    i=0\n",
    "    \n",
    "    for model_condition in sorted(os.listdir(dataset_path)):\n",
    "        if MODEL_CONDITION not in model_condition:\n",
    "            continue\n",
    "        \n",
    "        print(\"Model Condition --> \", model_condition)\n",
    "\n",
    "        remove_and_create_output_folder(gt_output_folder) \n",
    "\n",
    "        source_folder = join_dir(dataset_path, model_condition)\n",
    "\n",
    "        families_folder = join_dir(source_folder, \"families\")\n",
    "\n",
    "        get_all_GTs(families_folder) # get all gts from families folder in output folder named 1_gt.tre\n",
    "        get_True_Species_Tree(source_folder) # get true species tree from species tree folder in output folder named true-species.out.tre\n",
    "        \n",
    "        i+=1\n",
    "        if i>=1:\n",
    "            break"
   ]
  },
  {
   "cell_type": "code",
   "execution_count": 35,
   "metadata": {},
   "outputs": [
    {
     "name": "stdout",
     "output_type": "stream",
     "text": [
      "Model Condition -->  ssim_veryhighmiss_s25_f1000_sites100_GTR_bl1.0_d0.0_l0.0_t0.0_gc0.0_p0.0_pop50000000_ms0.6_mf0.6_seed3000\n"
     ]
    }
   ],
   "source": [
    "# MODEL_CONDITIONS = [\"s25\", \"s50\", \"s75\", \"s100\"]\n",
    "MODEL_CONDITIONS = [ \"s25\" ]\n",
    "for model_condition in MODEL_CONDITIONS:\n",
    "    get_gts_trueST(model_condition)"
   ]
  }
 ],
 "metadata": {
  "kernelspec": {
   "display_name": "tf2",
   "language": "python",
   "name": "python3"
  },
  "language_info": {
   "codemirror_mode": {
    "name": "ipython",
    "version": 3
   },
   "file_extension": ".py",
   "mimetype": "text/x-python",
   "name": "python",
   "nbconvert_exporter": "python",
   "pygments_lexer": "ipython3",
   "version": "3.11.0"
  },
  "orig_nbformat": 4,
  "vscode": {
   "interpreter": {
    "hash": "cfd499bf418f77ed98604f368b9dcc9d49d2a51ff3f93a138504985eb88a9fa1"
   }
  }
 },
 "nbformat": 4,
 "nbformat_minor": 2
}
